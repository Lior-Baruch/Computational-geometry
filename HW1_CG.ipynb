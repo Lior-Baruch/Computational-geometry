{
  "nbformat": 4,
  "nbformat_minor": 0,
  "metadata": {
    "colab": {
      "provenance": [],
      "authorship_tag": "ABX9TyN8wuyF/4Ee1OqaDcZ4KdXn",
      "include_colab_link": true
    },
    "kernelspec": {
      "name": "python3",
      "display_name": "Python 3"
    },
    "language_info": {
      "name": "python"
    }
  },
  "cells": [
    {
      "cell_type": "markdown",
      "metadata": {
        "id": "view-in-github",
        "colab_type": "text"
      },
      "source": [
        "<a href=\"https://colab.research.google.com/github/Lior-Baruch/Computational-geometry/blob/main/HW1_CG.ipynb\" target=\"_parent\"><img src=\"https://colab.research.google.com/assets/colab-badge.svg\" alt=\"Open In Colab\"/></a>"
      ]
    },
    {
      "cell_type": "code",
      "execution_count": 36,
      "metadata": {
        "id": "vWHQ-rA3r3-3"
      },
      "outputs": [],
      "source": [
        "import numpy as np\n",
        "import matplotlib.pyplot as plt\n",
        "from scipy.spatial import ConvexHull, convex_hull_plot_2d\n"
      ]
    },
    {
      "cell_type": "code",
      "source": [
        "# plot hull (for testing and understanding)\n",
        "def plot_hull(hull):\n",
        "    points = hull.points\n",
        "    plt.plot(points[:,0], points[:,1], 'o')\n",
        "    for simplex in hull.simplices:\n",
        "        plt.plot(points[simplex, 0], points[simplex, 1], 'k-')"
      ],
      "metadata": {
        "id": "rQnh5J_NsN5Z"
      },
      "execution_count": 37,
      "outputs": []
    },
    {
      "cell_type": "code",
      "source": [
        "# Q.1 - Write a program that sorts a given set on n integers utilizing a function that computes the\n",
        "#convex hull of a set of points in the plane.\n",
        "def sort_using_convex_hull(int_arr):\n",
        "    # Create a set of points using the integers as coordinates\n",
        "    points = np.array([[number, number*number] for number in int_arr])\n",
        "\n",
        "    # Compute the convex hull of the points\n",
        "    hull = ConvexHull(points)\n",
        "\n",
        "    # Sort the original set of numbers using the vertices of the convex hull\n",
        "    sorted_numbers = [points[vertex, 0] for vertex in hull.vertices]\n",
        "    min_index = np.argmin(sorted_numbers)\n",
        "    sorted_numbers = np.roll(sorted_numbers, -min_index)\n",
        "    return sorted_numbers\n",
        "\n",
        "\n",
        "# Test Q.1\n",
        "\n",
        "unsorted_arr = np.random.randint(10, size=10)\n",
        "sorted_arr = sort_using_convex_hull(unsorted_arr)\n",
        "print(\"unsorted_arr = {}\".format(unsorted_arr))\n",
        "print(\"sorted_arr = {}\".format(sorted_arr))\n",
        "\n",
        "\n"
      ],
      "metadata": {
        "colab": {
          "base_uri": "https://localhost:8080/"
        },
        "id": "8cfaVxEIsRWf",
        "outputId": "08dd641c-26da-4ea1-8639-753678033ef8"
      },
      "execution_count": 38,
      "outputs": [
        {
          "output_type": "stream",
          "name": "stdout",
          "text": [
            "unsorted_arr = [8 0 5 3 1 9 0 8 9 6]\n",
            "sorted_arr = [0 1 3 5 6 8 9]\n"
          ]
        }
      ]
    }
  ]
}