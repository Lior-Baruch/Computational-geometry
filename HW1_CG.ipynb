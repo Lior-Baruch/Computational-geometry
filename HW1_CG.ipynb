{
  "nbformat": 4,
  "nbformat_minor": 0,
  "metadata": {
    "colab": {
      "provenance": [],
      "authorship_tag": "ABX9TyOs7VUniQOgWMlcotjGXbuU",
      "include_colab_link": true
    },
    "kernelspec": {
      "name": "python3",
      "display_name": "Python 3"
    },
    "language_info": {
      "name": "python"
    }
  },
  "cells": [
    {
      "cell_type": "markdown",
      "metadata": {
        "id": "view-in-github",
        "colab_type": "text"
      },
      "source": [
        "<a href=\"https://colab.research.google.com/github/Lior-Baruch/Computational-geometry/blob/main/HW1_CG.ipynb\" target=\"_parent\"><img src=\"https://colab.research.google.com/assets/colab-badge.svg\" alt=\"Open In Colab\"/></a>"
      ]
    },
    {
      "cell_type": "code",
      "execution_count": 1,
      "metadata": {
        "id": "vWHQ-rA3r3-3"
      },
      "outputs": [],
      "source": [
        "import numpy as np\n",
        "import matplotlib.pyplot as plt\n",
        "from scipy.spatial import ConvexHull, convex_hull_plot_2d\n",
        "from math import atan2"
      ]
    },
    {
      "cell_type": "code",
      "source": [
        "# plot hull (for testing and understanding)\n",
        "def plot_hull(hull):\n",
        "    points = hull.points\n",
        "    plt.plot(points[:,0], points[:,1], 'o')\n",
        "    for simplex in hull.simplices:\n",
        "        plt.plot(points[simplex, 0], points[simplex, 1], 'k-')\n",
        "\n",
        "def plot_points(points):\n",
        "    plt.plot(points[:,0], points[:,1], 'o')"
      ],
      "metadata": {
        "id": "rQnh5J_NsN5Z"
      },
      "execution_count": 2,
      "outputs": []
    },
    {
      "cell_type": "code",
      "source": [
        "# Q.1.1 - Write a program that sorts a given set on n integers utilizing a function that computes the\n",
        "#convex hull of a set of points in the plane.\n",
        "def sort_using_convex_hull(int_arr):\n",
        "    # Create a set of points using the integers as coordinates\n",
        "    points = np.array([[number, number*number] for number in int_arr])\n",
        "\n",
        "    # Compute the convex hull of the points\n",
        "    hull = ConvexHull(points)\n",
        "\n",
        "    # Sort the original set of numbers using the vertices of the convex hull\n",
        "    sorted_numbers = [points[vertex, 0] for vertex in hull.vertices]\n",
        "    min_index = np.argmin(sorted_numbers)\n",
        "    sorted_numbers = np.roll(sorted_numbers, -min_index)\n",
        "    return sorted_numbers"
      ],
      "metadata": {
        "id": "8cfaVxEIsRWf"
      },
      "execution_count": 3,
      "outputs": []
    },
    {
      "cell_type": "code",
      "source": [
        "# Test Q.1.1\n",
        "unsorted_arr = np.random.randint(10, size=10)\n",
        "sorted_arr = sort_using_convex_hull(unsorted_arr)\n",
        "\n",
        "print(\"unsorted_arr = {}\".format(unsorted_arr))\n",
        "print(\"sorted_arr = {}\".format(sorted_arr))"
      ],
      "metadata": {
        "id": "LOCvBfNsy6R3",
        "outputId": "43f4d35f-79fb-44ad-f9a3-e069a422ffaa",
        "colab": {
          "base_uri": "https://localhost:8080/"
        }
      },
      "execution_count": 4,
      "outputs": [
        {
          "output_type": "stream",
          "name": "stdout",
          "text": [
            "unsorted_arr = [1 2 0 2 1 8 5 6 6 2]\n",
            "sorted_arr = [0 1 2 5 6 8]\n"
          ]
        }
      ]
    },
    {
      "cell_type": "code",
      "source": [
        "# Q.1.2.1 - Write a program that sorts a given set P of points into a counterclockwise circular order about an anchor\n",
        "#point (o in the picture below) that is strictly inside the convex hull of P, e.g., the center of mass of the\n",
        "#points (their average).\n",
        "\n",
        "atan2_vec = np.vectorize(atan2)\n",
        "\n",
        "# returns tuple of sorted counterclockwise points and anchor\n",
        "def sort_counterclockwise_circular(points):\n",
        "  # Convert the points to a numpy array\n",
        "  points = np.array(points)\n",
        "\n",
        "  # Compute the mean of the x and y coordinates of the points\n",
        "  x_mean = np.mean(points[:, 0])\n",
        "  y_mean = np.mean(points[:, 1])\n",
        "  anchor = (x_mean, y_mean)\n",
        "\n",
        "  # Sort the points by their polar angle with the (x_mean, y_mean), in\n",
        "  # counterclockwise order\n",
        "  sorted_counterclockwise = np.array(sorted(points, key=lambda point: atan2(point[1] - y_mean, point[0] - x_mean), reverse=True))\n",
        "  return (sorted_counterclockwise, anchor)"
      ],
      "metadata": {
        "id": "TRJaebyWzEtB"
      },
      "execution_count": 10,
      "outputs": []
    },
    {
      "cell_type": "code",
      "source": [
        "# Test Q.1.2.1\n",
        "\n",
        "points_test = np.random.randint(low = 0, high = 100, size = (10,2))\n",
        "points_sorted_circular_test, anchor = sort_counterclockwise_circular(points_test)\n",
        "\n",
        "#print(points_test)\n",
        "#print(points_sorted_circular_test)\n",
        "#plot_points(points_test)\n",
        "#plot_points(points_sorted_circular_test)\n",
        "#plt.plot(points_test[:,0], points_test[:,1])\n",
        "print(\"anchor = {}\".format(anchor))\n",
        "plt.plot(points_sorted_circular_test[:,0], points_sorted_circular_test[:,1])\n"
      ],
      "metadata": {
        "colab": {
          "base_uri": "https://localhost:8080/",
          "height": 300
        },
        "id": "yW4Faok72PAx",
        "outputId": "5d1cc23f-157c-44c7-9fb2-9590d9b09042"
      },
      "execution_count": 11,
      "outputs": [
        {
          "output_type": "stream",
          "name": "stdout",
          "text": [
            "anchor = (42.4, 62.4)\n"
          ]
        },
        {
          "output_type": "execute_result",
          "data": {
            "text/plain": [
              "[<matplotlib.lines.Line2D at 0x7f2bccb37df0>]"
            ]
          },
          "metadata": {},
          "execution_count": 11
        },
        {
          "output_type": "display_data",
          "data": {
            "text/plain": [
              "<Figure size 432x288 with 1 Axes>"
            ],
            "image/png": "[encoded data removed]"
          },
          "metadata": {
            "needs_background": "light"
          }
        }
      ]
    },
    {
      "cell_type": "markdown",
      "source": [
        "**Q.1.3**\n",
        "One possible algorithm for computing the convex hull of a set of convex polygons in time O(Nlog(k)) is the divide and conquer algorithm. This algorithm works by recursively dividing the set of polygons into smaller sets and computing the convex hull of each set, until there is only one polygon left in each set. Then, the convex hulls of the individual sets are combined to obtain the final result.\n",
        "\n",
        "To achieve a time complexity of O(Nlog(k)), we can use a binary tree structure to divide the polygons into smaller sets at each step of the recursion. This allows us to split the polygons into two halves at each step, which results in a logarithmic number of recursive steps. Then, we can use a linear-time algorithm, such as the gift wrapping algorithm, to compute the convex hull of each set of polygons at each recursive step.\n",
        "\n",
        "Here is a pseudocode outline of the algorithm:\n",
        "function convex_hull(polygons):\n",
        "  # base case: return the convex hull of a single polygon\n",
        "  if polygons.length == 1:\n",
        "    return compute_convex_hull(polygons[0])\n",
        "\n",
        "  # divide the polygons into two sets using a binary tree structure\n",
        "  left_polygons = polygons[0...polygons.length/2]\n",
        "  right_polygons = polygons[polygons.length/2...polygons.length]\n",
        "\n",
        "  # compute the convex hulls of the two sets of polygons recursively\n",
        "  left_hull = convex_hull(left_polygons)\n",
        "  right_hull = convex_hull(right_polygons)\n",
        "\n",
        "  # combine the convex hulls of the two sets to obtain the final result\n",
        "  return combine_convex_hulls(left_hull, right_hull)\n",
        "\n",
        "\n",
        "This algorithm has a time complexity of O(Nlog(k)), where N is the total number of vertices in the input polygons and k is the number of polygons. This is because each recursive step divides the polygons into two smaller sets and then computes the convex hull of each set in linear time, resulting in a logarithmic number of recursive steps. Additionally, the combine_convex_hulls function can be implemented to run in linear time\n",
        "\n",
        "To combine the convex hulls of two sets of polygons in linear time, we can use the gift wrapping algorithm (also known as Jarvis march) to compute the convex hull of the union of the two sets. This algorithm works by iteratively selecting points that are part of the convex hull, starting from the leftmost point. At each step, it selects the point that is the farthest to the right in the direction of the current hull edge. The algorithm continues until it reaches the starting point, at which point the convex hull is complete."
      ],
      "metadata": {
        "id": "Vx-rZ4NaWf27"
      }
    }
  ]
}