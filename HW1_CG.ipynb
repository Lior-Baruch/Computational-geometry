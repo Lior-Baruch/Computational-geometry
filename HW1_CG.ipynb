{
  "nbformat": 4,
  "nbformat_minor": 0,
  "metadata": {
    "colab": {
      "provenance": [],
      "authorship_tag": "ABX9TyM8v0sSwS9p1i0a9zQEjoIT",
      "include_colab_link": true
    },
    "kernelspec": {
      "name": "python3",
      "display_name": "Python 3"
    },
    "language_info": {
      "name": "python"
    }
  },
  "cells": [
    {
      "cell_type": "markdown",
      "metadata": {
        "id": "view-in-github",
        "colab_type": "text"
      },
      "source": [
        "<a href=\"https://colab.research.google.com/github/Lior-Baruch/Computational-geometry/blob/main/HW1_CG.ipynb\" target=\"_parent\"><img src=\"https://colab.research.google.com/assets/colab-badge.svg\" alt=\"Open In Colab\"/></a>"
      ]
    },
    {
      "cell_type": "code",
      "execution_count": 53,
      "metadata": {
        "id": "vWHQ-rA3r3-3"
      },
      "outputs": [],
      "source": [
        "import numpy as np\n",
        "import matplotlib.pyplot as plt\n",
        "from scipy.spatial import ConvexHull, convex_hull_plot_2d\n",
        "from math import atan2"
      ]
    },
    {
      "cell_type": "code",
      "source": [
        "# plot hull (for testing and understanding)\n",
        "def plot_hull(hull):\n",
        "    points = hull.points\n",
        "    plt.plot(points[:,0], points[:,1], 'o')\n",
        "    for simplex in hull.simplices:\n",
        "        plt.plot(points[simplex, 0], points[simplex, 1], 'k-')\n",
        "\n",
        "def plot_points(points):\n",
        "    plt.plot(points[:,0], points[:,1], 'o')"
      ],
      "metadata": {
        "id": "rQnh5J_NsN5Z"
      },
      "execution_count": 46,
      "outputs": []
    },
    {
      "cell_type": "code",
      "source": [
        "# Q.1.1 - Write a program that sorts a given set on n integers utilizing a function that computes the\n",
        "#convex hull of a set of points in the plane.\n",
        "def sort_using_convex_hull(int_arr):\n",
        "    # Create a set of points using the integers as coordinates\n",
        "    points = np.array([[number, number*number] for number in int_arr])\n",
        "\n",
        "    # Compute the convex hull of the points\n",
        "    hull = ConvexHull(points)\n",
        "\n",
        "    # Sort the original set of numbers using the vertices of the convex hull\n",
        "    sorted_numbers = [points[vertex, 0] for vertex in hull.vertices]\n",
        "    min_index = np.argmin(sorted_numbers)\n",
        "    sorted_numbers = np.roll(sorted_numbers, -min_index)\n",
        "    return sorted_numbers"
      ],
      "metadata": {
        "colab": {
          "base_uri": "https://localhost:8080/"
        },
        "id": "8cfaVxEIsRWf",
        "outputId": "08dd641c-26da-4ea1-8639-753678033ef8"
      },
      "execution_count": 38,
      "outputs": [
        {
          "output_type": "stream",
          "name": "stdout",
          "text": [
            "unsorted_arr = [8 0 5 3 1 9 0 8 9 6]\n",
            "sorted_arr = [0 1 3 5 6 8 9]\n"
          ]
        }
      ]
    },
    {
      "cell_type": "code",
      "source": [
        "# Test Q.1.1\n",
        "unsorted_arr = np.random.randint(10, size=10)\n",
        "sorted_arr = sort_using_convex_hull(unsorted_arr)\n",
        "\n",
        "print(\"unsorted_arr = {}\".format(unsorted_arr))\n",
        "print(\"sorted_arr = {}\".format(sorted_arr))"
      ],
      "metadata": {
        "id": "LOCvBfNsy6R3"
      },
      "execution_count": null,
      "outputs": []
    },
    {
      "cell_type": "code",
      "source": [
        "# Q.1.2.1 - Write a program that sorts a given set P of points into a counterclockwise circular order about an anchor\n",
        "#point (o in the picture below) that is strictly inside the convex hull of P, e.g., the center of mass of the\n",
        "#points (their average).\n",
        "\n",
        "atan2_vec = np.vectorize(atan2)\n",
        "\n",
        "def sort_counterclockwise_circular(points):\n",
        "  # Convert the points to a numpy array\n",
        "  points = np.array(points)\n",
        "\n",
        "  # Compute the mean of the x and y coordinates of the points\n",
        "  x_mean = np.mean(points[:, 0])\n",
        "  y_mean = np.mean(points[:, 1])\n",
        "\n",
        "  print(\"anchor = {}\".format((x_mean, y_mean)))\n",
        "\n",
        "  # Sort the points by their polar angle with the (x_mean, y_mean), in\n",
        "  # counterclockwise order\n",
        "  return np.array(sorted(points, key=lambda point: atan2(point[1] - y_mean, point[0] - x_mean), reverse=True))"
      ],
      "metadata": {
        "id": "TRJaebyWzEtB"
      },
      "execution_count": 76,
      "outputs": []
    },
    {
      "cell_type": "code",
      "source": [
        "# Test Q.1.2.1\n",
        "\n",
        "points_test = np.random.randint(low = 0, high = 100, size = (10,2))\n",
        "points_sorted_circular_test = sort_counterclockwise_circular(points_test)\n",
        "\n",
        "#print(points_test)\n",
        "#print(points_sorted_circular_test)\n",
        "#plot_points(points_test)\n",
        "#plot_points(points_sorted_circular_test)\n",
        "#plt.plot(points_test[:,0], points_test[:,1])\n",
        "plt.plot(points_sorted_circular_test[:,0], points_sorted_circular_test[:,1])\n"
      ],
      "metadata": {
        "colab": {
          "base_uri": "https://localhost:8080/",
          "height": 649
        },
        "id": "yW4Faok72PAx",
        "outputId": "c6727088-62c2-484b-e3ce-285b12098b45"
      },
      "execution_count": 83,
      "outputs": [
        {
          "output_type": "stream",
          "name": "stdout",
          "text": [
            "anchor = (54.9, 60.8)\n",
            "[[67 39]\n",
            " [ 2 97]\n",
            " [17 84]\n",
            " [86 24]\n",
            " [80 88]\n",
            " [54 89]\n",
            " [66 86]\n",
            " [59 30]\n",
            " [45 15]\n",
            " [73 56]]\n",
            "[[17 84]\n",
            " [ 2 97]\n",
            " [54 89]\n",
            " [66 86]\n",
            " [80 88]\n",
            " [73 56]\n",
            " [86 24]\n",
            " [67 39]\n",
            " [59 30]\n",
            " [45 15]]\n"
          ]
        },
        {
          "output_type": "execute_result",
          "data": {
            "text/plain": [
              "[<matplotlib.lines.Line2D at 0x7f899b03fac0>]"
            ]
          },
          "metadata": {},
          "execution_count": 83
        },
        {
          "output_type": "display_data",
          "data": {
            "text/plain": [
              "<Figure size 432x288 with 1 Axes>"
            ],
            "image/png": "[encoded data removed]"
          },
          "metadata": {
            "needs_background": "light"
          }
        }
      ]
    }
  ]
}