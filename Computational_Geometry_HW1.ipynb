{
  "nbformat": 4,
  "nbformat_minor": 0,
  "metadata": {
    "colab": {
      "provenance": [],
      "authorship_tag": "ABX9TyPCHS+elHk57DgG5SjYWaI5",
      "include_colab_link": true
    },
    "kernelspec": {
      "name": "python3",
      "display_name": "Python 3"
    },
    "language_info": {
      "name": "python"
    }
  },
  "cells": [
    {
      "cell_type": "markdown",
      "metadata": {
        "id": "view-in-github",
        "colab_type": "text"
      },
      "source": [
        "<a href=\"https://colab.research.google.com/github/Lior-Baruch/Computational-geometry/blob/main/Computational_Geometry_HW1.ipynb\" target=\"_parent\"><img src=\"https://colab.research.google.com/assets/colab-badge.svg\" alt=\"Open In Colab\"/></a>"
      ]
    },
    {
      "cell_type": "code",
      "execution_count": null,
      "metadata": {
        "id": "FbYcp0r70TN_"
      },
      "outputs": [],
      "source": [
        "import numpy as np\n",
        "import matplotlib.pyplot as plt\n",
        "from scipy.spatial import ConvexHull, convex_hull_plot_2d"
      ]
    },
    {
      "cell_type": "code",
      "source": [
        "# Exercise 1.1\n",
        "def sort_using_conex_hull(arr):\n",
        "    #make integers to points\n",
        "    points = \n",
        "    hull = ConvexHull(arr)"
      ],
      "metadata": {
        "id": "zBwCZw2i0cCV"
      },
      "execution_count": null,
      "outputs": []
    },
    {
      "cell_type": "code",
      "source": [
        "#plot\n"
      ],
      "metadata": {
        "id": "jedNRGlM05Gm"
      },
      "execution_count": null,
      "outputs": []
    }
  ]
}